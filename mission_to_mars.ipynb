{
 "cells": [
  {
   "cell_type": "code",
   "execution_count": 90,
   "metadata": {},
   "outputs": [],
   "source": [
    "from selenium import webdriver\n",
    "from bs4 import BeautifulSoup\n",
    "import requests\n",
    "# from requests_html import HTMLSession, AsyncHTMLSession\n",
    "\n",
    "import pandas as pd\n",
    "\n",
    "import time\n",
    "import re"
   ]
  },
  {
   "cell_type": "code",
   "execution_count": 119,
   "metadata": {},
   "outputs": [],
   "source": [
    "# Set-up for Selenium headless browsing\n",
    "options = webdriver.ChromeOptions()\n",
    "options.add_argument('--ignore-certificate-errors')\n",
    "options.add_argument('--incognito')\n",
    "options.add_argument('--headless')\n",
    "\n",
    "driver = webdriver.Chrome(\"/usr/local/bin/chromedriver\", options=options)"
   ]
  },
  {
   "cell_type": "code",
   "execution_count": 101,
   "metadata": {},
   "outputs": [],
   "source": [
    "# 1. Mars NASA News\n",
    "# Tagget url and fake-user agent (don't need this for Selenium to work)\n",
    "nasa_url = 'https://mars.nasa.gov/news/'\n",
    "headers = {'User-Agent': 'Mozilla/5.0 (Macintosh; Intel Mac OS X 10_13_6) AppleWebKit/537.36 (KHTML, like Gecko) Chrome/76.0.3809.100 Safari/537.36'}"
   ]
  },
  {
   "cell_type": "code",
   "execution_count": 102,
   "metadata": {},
   "outputs": [],
   "source": [
    "# Use Selenium + Beautiful Soup to get proper data from the page that implement React.js for dynamic data loading\n",
    "# Then, get the loaded page source into the Soup object\n",
    "driver.get(nasa_url)\n",
    "time.sleep(1)\n",
    "page_source = driver.page_source\n",
    "\n",
    "soup = BeautifulSoup(page_source, 'lxml')"
   ]
  },
  {
   "cell_type": "code",
   "execution_count": 104,
   "metadata": {},
   "outputs": [],
   "source": [
    "# ul.item_list > every li.slide has below information > div.image_and_description_container\n",
    "# div.list_text\n",
    "    # div.list_date.get_text() -> posted date\n",
    "    # div.content_title > a.get_text -> News title\n",
    "    # div.article_teaser_body.get_text() -> News thumbnail (paragraph)\n",
    "    # div.content_title > a.get('href') -> News link\n",
    "\n",
    "    \n",
    "css_selector = 'ul.item_list > li.slide > div.image_and_description_container'# > div.list_text'    \n",
    "\n",
    "news_list = soup.select(css_selector)\n",
    "\n",
    "news_info_list = []\n",
    "base_url = 'https://mars.nasa.gov'\n",
    "\n",
    "for news in news_list:\n",
    "    news_text = news.select_one('div.list_text')\n",
    "    news_img = news.select_one('div.list_image')\n",
    "    \n",
    "    post_date = news_text.select_one('div.list_date').string.strip()\n",
    "    news_title = news_text.select_one('div.content_title > a').string.strip()\n",
    "    news_paragraph = news_text.select_one('div.article_teaser_body').string.strip()\n",
    "    news_link = base_url + news_text.select_one('div.content_title > a').get('href').strip()\n",
    "    \n",
    "    news_img_link = base_url + news_img.select_one('img').get('src').strip()\n",
    "    \n",
    "    news_info_list.append({\"post_date\" : post_date,\n",
    "                           \"title\" : news_title,\n",
    "                           \"paragraph\" : news_paragraph,\n",
    "                           \"news_link\" : news_link,\n",
    "                           \"news_image\": news_img_link}\n",
    "                         )"
   ]
  },
  {
   "cell_type": "code",
   "execution_count": 106,
   "metadata": {},
   "outputs": [
    {
     "data": {
      "text/plain": [
       "[{'post_date': 'August 15, 2019',\n",
       "  'title': \"Robotic Toolkit Added to NASA's Mars 2020 Rover\",\n",
       "  'paragraph': \"The bit carousel, which lies at the heart of the rover's Sample Caching System, is now aboard NASA's newest rover.\",\n",
       "  'news_link': 'https://mars.nasa.gov/news/8503/robotic-toolkit-added-to-nasas-mars-2020-rover/',\n",
       "  'news_image': 'https://mars.nasa.gov/system/news_items/list_view_images/8503_PIA23319-MAIN-226.jpg'},\n",
       " {'post_date': 'August 13, 2019',\n",
       "  'title': \"Space Samples Link NASA's Apollo 11 and Mars 2020\",\n",
       "  'paragraph': \"While separated by half a century, NASA's Apollo 11 and Mars 2020 missions share the same historic goal: returning samples to Earth.\",\n",
       "  'news_link': 'https://mars.nasa.gov/news/8502/space-samples-link-nasas-apollo-11-and-mars-2020/',\n",
       "  'news_image': 'https://mars.nasa.gov/system/news_items/list_view_images/8502_apollo-mars2020-20190809-th.jpg'},\n",
       " {'post_date': 'August  9, 2019',\n",
       "  'title': 'Small Satellite Mission of the Year',\n",
       "  'paragraph': 'The first interplanetary CubeSats were recognized by the engineering community with the 2019 Small Satellite Mission of the Year award.',\n",
       "  'news_link': 'https://mars.nasa.gov/news/8501/small-satellite-mission-of-the-year/',\n",
       "  'news_image': 'https://mars.nasa.gov/system/news_items/list_view_images/8501_21555_PIA22314_320.jpg'},\n",
       " {'post_date': 'August  5, 2019',\n",
       "  'title': \"NASA 'Optometrists' Verify Mars 2020 Rover's 20/20 Vision\",\n",
       "  'paragraph': 'Mars 2020 rover underwent an eye exam after several cameras were installed on the rover.',\n",
       "  'news_link': 'https://mars.nasa.gov/news/8499/nasa-optometrists-verify-mars-2020-rovers-2020-vision/',\n",
       "  'news_image': 'https://mars.nasa.gov/system/news_items/list_view_images/8499_PIA23314-th.jpg'},\n",
       " {'post_date': 'August  5, 2019',\n",
       "  'title': 'New Finds for Mars Rover, Seven Years After Landing',\n",
       "  'paragraph': 'NASA\\'s Curiosity rover is discovering odd rocks halfway into a region called the \"clay-bearing unit.\"',\n",
       "  'news_link': 'https://mars.nasa.gov/news/8498/new-finds-for-mars-rover-seven-years-after-landing/',\n",
       "  'news_image': 'https://mars.nasa.gov/system/news_items/list_view_images/8498_PIA23346-th.jpg'}]"
      ]
     },
     "execution_count": 106,
     "metadata": {},
     "output_type": "execute_result"
    }
   ],
   "source": [
    "news_info_list[:5]"
   ]
  },
  {
   "cell_type": "code",
   "execution_count": 71,
   "metadata": {},
   "outputs": [
    {
     "data": {
      "text/plain": [
       "{'image_url': 'https://www.jpl.nasa.gov/spaceimages/images/largesize/PIA00271_hires.jpg',\n",
       " 'description': \"The northern hemisphere is displayed in this global view of the surface of Venus as seen by NASA's Magellan spacecraft. \"}"
      ]
     },
     "execution_count": 71,
     "metadata": {},
     "output_type": "execute_result"
    }
   ],
   "source": [
    "# 2. Mars JPL\n",
    "jpl_url = 'https://www.jpl.nasa.gov/spaceimages/?search=&category=Mars'\n",
    "driver.get(jpl_url)\n",
    "time.sleep(2)\n",
    "driver.find_element_by_id('full_image').click()\n",
    "time.sleep(2)\n",
    "driver.find_element_by_partial_link_text('more info').click()\n",
    "time.sleep(2)\n",
    "featured_image_url = driver.find_element_by_class_name('main_image').get_attribute('src')\n",
    "featured_image_desc = driver.find_element_by_class_name('main_image').get_attribute('title')\n",
    "\n",
    "featured_image = {\"image_url\": featured_image_url,\n",
    "                  \"description\": featured_image_desc}\n",
    "\n",
    "featured_image"
   ]
  },
  {
   "cell_type": "code",
   "execution_count": 117,
   "metadata": {},
   "outputs": [],
   "source": [
    "# 3. Mars tweeter\n",
    "\n",
    "# For practice purpose, I used soup.select() with css selector, not find() or find_all().\n",
    "\n",
    "# 1) Get the weather information if a paragraph contains \"Sol ###\":\n",
    "# div#timeline > div.stream-container > div.stream > ol#stream-items-id >\n",
    "# li.js-stream-item stream-item stream-item >\n",
    "# div.tweet js-stream-tweet js-actionable-tweet js-profile-popup-actionable dismissible-content original-tweet js-original-tweet has-cards has-content\n",
    "# > div.content > div.js-tweet-text-container > p.string\n",
    "\n",
    "# 2) Get the dashboard image URL as well as the tweeted date and time:\n",
    "#  2-1) image\n",
    "# .... > div.content > div.AdaptiveMediaOuterContainer > div.AdaptiveMedia is-square >\n",
    "# div.AdaptiveMedia-container > div.AdaptiveMedia-singlePhoto >\n",
    "# div.AdaptiveMedia-photoContainer js-adaptive-photo > img.get('src')\n",
    "#  2-2) date and time\n",
    "# .... > div.content > div.stream-item-header > small.time > a.get('data-original-title')\n",
    "\n",
    "tweeter_url = 'https://twitter.com/marswxreport?lang=en'\n",
    "resp = requests.get(tweeter_url, headers=headers) \n",
    "soup = BeautifulSoup(resp.text, 'lxml')\n",
    "\n",
    "# css_selector1 = 'ol#stream-items-id > li.js-stream-item.stream-item.stream-item'\n",
    "# css_selector2 = 'div.tweet.js-stream-tweet.js-actionable-tweet.js-profile-popup-actionable.dismissible-content.original-tweet.js-original-tweet.has-cards.has-content'\n",
    "# css_selector3 = 'div.content > div.js-tweet-text-container > p'\n",
    "\n",
    "# Use :has() pseudo-class for CSS selectr\n",
    "ordered_list = soup.select('div.content:has(p)') # a list\n",
    "\n",
    "for list_ in ordered_list:\n",
    "    \n",
    "    a_list_of_string = list(list_.p.strings)\n",
    "    \n",
    "    if re.search(re.compile('sol \\d{3}'), a_list_of_string[0]):\n",
    "        mars_weather = a_list_of_string[0]\n",
    "\n",
    "        # tweet date selector\n",
    "#         css_selector4 = 'div.content > div.stream-item-header > small.time > a > span._timestamp.js-short-timestamp'\n",
    "        tweet_date = list_.select_one('[class*=js-short-timestamp]').string\n",
    "         \n",
    "        # image URL selector\n",
    "#         css_selector5 = 'div.content > div.AdaptiveMediaOuterContainer > div.AdaptiveMedia.is-square > div.AdaptiveMedia-container > div.AdaptiveMedia-singlePhoto > div.AdaptiveMedia-photoContainer.js-adaptive-photo > img'\n",
    "        temp_html = list_.select_one('[class~=AdaptiveMedia-singlePhoto]')\n",
    "        \n",
    "        if temp_html is not None:\n",
    "            image_url = temp_html.img.get('src').strip()\n",
    "        else:\n",
    "            image_url = ''\n",
    "        break\n",
    "        \n",
    "    else:\n",
    "        continue\n",
    "    \n",
    "tweeter_output_dict = {\"weather\": mars_weather,\n",
    "                       \"image\": image_url,\n",
    "                       \"tweet_at\": tweet_date}\n"
   ]
  },
  {
   "cell_type": "code",
   "execution_count": 118,
   "metadata": {},
   "outputs": [
    {
     "data": {
      "text/plain": [
       "{'weather': 'InSight sol 258 (2019-08-18) low -100.0ºC (-148.1ºF) high -26.2ºC (-15.2ºF)\\nwinds from the SSE at 5.3 m/s (11.9 mph) gusting to 16.8 m/s (37.6 mph)\\npressure at 7.60 hPa',\n",
       " 'image': 'https://pbs.twimg.com/media/ECU86NPWsAA95lS.jpg',\n",
       " 'tweet_at': 'Aug 19'}"
      ]
     },
     "execution_count": 118,
     "metadata": {},
     "output_type": "execute_result"
    }
   ],
   "source": [
    "tweeter_output_dict"
   ]
  },
  {
   "cell_type": "code",
   "execution_count": 83,
   "metadata": {},
   "outputs": [],
   "source": [
    "# 4. Mars Facts\n",
    "facts_url = 'https://space-facts.com/mars/'\n",
    "df_facts = pd.read_html(facts_url)"
   ]
  },
  {
   "cell_type": "code",
   "execution_count": 95,
   "metadata": {},
   "outputs": [],
   "source": [
    "pd.set_option('display.colheader_justify','left')"
   ]
  },
  {
   "cell_type": "code",
   "execution_count": 96,
   "metadata": {},
   "outputs": [
    {
     "data": {
      "text/html": [
       "<div>\n",
       "<style scoped>\n",
       "    .dataframe tbody tr th:only-of-type {\n",
       "        vertical-align: middle;\n",
       "    }\n",
       "\n",
       "    .dataframe tbody tr th {\n",
       "        vertical-align: top;\n",
       "    }\n",
       "\n",
       "    .dataframe thead th {\n",
       "        text-align: right;\n",
       "    }\n",
       "</style>\n",
       "<table border=\"1\" class=\"dataframe\">\n",
       "  <thead>\n",
       "    <tr style=\"text-align: left;\">\n",
       "      <th></th>\n",
       "      <th>Mars - Earth Comparison</th>\n",
       "      <th>Mars</th>\n",
       "      <th>Earth</th>\n",
       "    </tr>\n",
       "  </thead>\n",
       "  <tbody>\n",
       "    <tr>\n",
       "      <th>0</th>\n",
       "      <td>Diameter:</td>\n",
       "      <td>6,779 km</td>\n",
       "      <td>12,742 km</td>\n",
       "    </tr>\n",
       "    <tr>\n",
       "      <th>1</th>\n",
       "      <td>Mass:</td>\n",
       "      <td>6.39 × 10^23 kg</td>\n",
       "      <td>5.97 × 10^24 kg</td>\n",
       "    </tr>\n",
       "    <tr>\n",
       "      <th>2</th>\n",
       "      <td>Moons:</td>\n",
       "      <td>2</td>\n",
       "      <td>1</td>\n",
       "    </tr>\n",
       "    <tr>\n",
       "      <th>3</th>\n",
       "      <td>Distance from Sun:</td>\n",
       "      <td>227,943,824 km</td>\n",
       "      <td>149,598,262 km</td>\n",
       "    </tr>\n",
       "    <tr>\n",
       "      <th>4</th>\n",
       "      <td>Length of Year:</td>\n",
       "      <td>687 Earth days</td>\n",
       "      <td>365.24 days</td>\n",
       "    </tr>\n",
       "    <tr>\n",
       "      <th>5</th>\n",
       "      <td>Temperature:</td>\n",
       "      <td>-153 to 20 °C</td>\n",
       "      <td>-88 to 58°C</td>\n",
       "    </tr>\n",
       "  </tbody>\n",
       "</table>\n",
       "</div>"
      ],
      "text/plain": [
       "  Mars - Earth Comparison Mars             Earth           \n",
       "0           Diameter:             6,779 km        12,742 km\n",
       "1               Mass:      6.39 × 10^23 kg  5.97 × 10^24 kg\n",
       "2              Moons:                    2                1\n",
       "3  Distance from Sun:       227,943,824 km   149,598,262 km\n",
       "4     Length of Year:       687 Earth days      365.24 days\n",
       "5        Temperature:        -153 to 20 °C      -88 to 58°C"
      ]
     },
     "execution_count": 96,
     "metadata": {},
     "output_type": "execute_result"
    }
   ],
   "source": [
    "df_facts[0]"
   ]
  },
  {
   "cell_type": "code",
   "execution_count": 79,
   "metadata": {},
   "outputs": [],
   "source": [
    "df_facts = df_facts[1].rename(columns={0:'Fact', 1:'Value'})"
   ]
  },
  {
   "cell_type": "code",
   "execution_count": 80,
   "metadata": {},
   "outputs": [
    {
     "data": {
      "text/html": [
       "<div>\n",
       "<style scoped>\n",
       "    .dataframe tbody tr th:only-of-type {\n",
       "        vertical-align: middle;\n",
       "    }\n",
       "\n",
       "    .dataframe tbody tr th {\n",
       "        vertical-align: top;\n",
       "    }\n",
       "\n",
       "    .dataframe thead th {\n",
       "        text-align: right;\n",
       "    }\n",
       "</style>\n",
       "<table border=\"1\" class=\"dataframe\">\n",
       "  <thead>\n",
       "    <tr style=\"text-align: center;\">\n",
       "      <th></th>\n",
       "      <th>Fact</th>\n",
       "      <th>Value</th>\n",
       "    </tr>\n",
       "  </thead>\n",
       "  <tbody>\n",
       "    <tr>\n",
       "      <th>0</th>\n",
       "      <td>Equatorial Diameter:</td>\n",
       "      <td>6,792 km</td>\n",
       "    </tr>\n",
       "    <tr>\n",
       "      <th>1</th>\n",
       "      <td>Polar Diameter:</td>\n",
       "      <td>6,752 km</td>\n",
       "    </tr>\n",
       "    <tr>\n",
       "      <th>2</th>\n",
       "      <td>Mass:</td>\n",
       "      <td>6.39 × 10^23 kg (0.11 Earths)</td>\n",
       "    </tr>\n",
       "    <tr>\n",
       "      <th>3</th>\n",
       "      <td>Moons:</td>\n",
       "      <td>2 (Phobos &amp; Deimos)</td>\n",
       "    </tr>\n",
       "    <tr>\n",
       "      <th>4</th>\n",
       "      <td>Orbit Distance:</td>\n",
       "      <td>227,943,824 km (1.38 AU)</td>\n",
       "    </tr>\n",
       "    <tr>\n",
       "      <th>5</th>\n",
       "      <td>Orbit Period:</td>\n",
       "      <td>687 days (1.9 years)</td>\n",
       "    </tr>\n",
       "    <tr>\n",
       "      <th>6</th>\n",
       "      <td>Surface Temperature:</td>\n",
       "      <td>-87 to -5 °C</td>\n",
       "    </tr>\n",
       "    <tr>\n",
       "      <th>7</th>\n",
       "      <td>First Record:</td>\n",
       "      <td>2nd millennium BC</td>\n",
       "    </tr>\n",
       "    <tr>\n",
       "      <th>8</th>\n",
       "      <td>Recorded By:</td>\n",
       "      <td>Egyptian astronomers</td>\n",
       "    </tr>\n",
       "  </tbody>\n",
       "</table>\n",
       "</div>"
      ],
      "text/plain": [
       "           Fact                     Value             \n",
       "0  Equatorial Diameter:                       6,792 km\n",
       "1       Polar Diameter:                       6,752 km\n",
       "2                 Mass:  6.39 × 10^23 kg (0.11 Earths)\n",
       "3                Moons:            2 (Phobos & Deimos)\n",
       "4       Orbit Distance:       227,943,824 km (1.38 AU)\n",
       "5         Orbit Period:           687 days (1.9 years)\n",
       "6  Surface Temperature:                   -87 to -5 °C\n",
       "7         First Record:              2nd millennium BC\n",
       "8          Recorded By:           Egyptian astronomers"
      ]
     },
     "execution_count": 80,
     "metadata": {},
     "output_type": "execute_result"
    }
   ],
   "source": [
    "df_facts"
   ]
  },
  {
   "cell_type": "code",
   "execution_count": 108,
   "metadata": {},
   "outputs": [
    {
     "data": {
      "text/plain": [
       "str"
      ]
     },
     "execution_count": 108,
     "metadata": {},
     "output_type": "execute_result"
    }
   ],
   "source": [
    "type(df_facts[0].to_html())"
   ]
  },
  {
   "cell_type": "code",
   "execution_count": 120,
   "metadata": {},
   "outputs": [],
   "source": [
    "# 5. Mars Hemispheres\n",
    "hemisphere_url = 'https://astrogeology.usgs.gov/search/results?q=hemisphere+enhanced&k1=target&v1=Mars'\n",
    "base_url = 'https://astrogeology.usgs.gov' # to get the full image_url\n",
    "driver.get(hemisphere_url)"
   ]
  },
  {
   "cell_type": "code",
   "execution_count": 121,
   "metadata": {},
   "outputs": [],
   "source": [
    "# hemispheres = driver.find_element_by_class_name('collapsible.results').find_elements_by_partial_link_text('Hemisphere Enhanced')\n",
    "\n",
    "# hemisphere_links = [link.get_attribute('href') for link in driver.find_elements_by_partial_link_text('Hemisphere Enhanced')]\n",
    "# hemisphere_titles = [link.text for link in driver.find_elements_by_partial_link_text('Hemisphere Enhanced')]\n",
    "\n",
    "hemispheres = [(link.get_attribute('href'), link.text) for link in driver.find_elements_by_partial_link_text('Hemisphere Enhanced')]\n",
    "hemisphere_image_urls = []\n",
    "\n",
    "for link, title  in hemispheres:\n",
    "    driver.get(link)\n",
    "    time.sleep(2)\n",
    "    partial_url = driver.find_element_by_class_name('wide-image').get_attribute('src')\n",
    "    img_url = partial_url\n",
    "    \n",
    "    hemisphere_image_urls.append({\"title\": title,\n",
    "                                  \"img_url\": img_url})\n",
    "driver.quit()"
   ]
  },
  {
   "cell_type": "code",
   "execution_count": 122,
   "metadata": {},
   "outputs": [
    {
     "data": {
      "text/plain": [
       "[{'title': 'Cerberus Hemisphere Enhanced',\n",
       "  'img_url': 'https://astrogeology.usgs.gov/cache/images/cfa62af2557222a02478f1fcd781d445_cerberus_enhanced.tif_full.jpg'},\n",
       " {'title': 'Schiaparelli Hemisphere Enhanced',\n",
       "  'img_url': 'https://astrogeology.usgs.gov/cache/images/3cdd1cbf5e0813bba925c9030d13b62e_schiaparelli_enhanced.tif_full.jpg'},\n",
       " {'title': 'Syrtis Major Hemisphere Enhanced',\n",
       "  'img_url': 'https://astrogeology.usgs.gov/cache/images/ae209b4e408bb6c3e67b6af38168cf28_syrtis_major_enhanced.tif_full.jpg'},\n",
       " {'title': 'Valles Marineris Hemisphere Enhanced',\n",
       "  'img_url': 'https://astrogeology.usgs.gov/cache/images/7cf2da4bf549ed01c17f206327be4db7_valles_marineris_enhanced.tif_full.jpg'}]"
      ]
     },
     "execution_count": 122,
     "metadata": {},
     "output_type": "execute_result"
    }
   ],
   "source": [
    "hemisphere_image_urls"
   ]
  },
  {
   "cell_type": "code",
   "execution_count": null,
   "metadata": {},
   "outputs": [],
   "source": []
  }
 ],
 "metadata": {
  "kernelspec": {
   "display_name": "Python 3",
   "language": "python",
   "name": "python3"
  },
  "language_info": {
   "codemirror_mode": {
    "name": "ipython",
    "version": 3
   },
   "file_extension": ".py",
   "mimetype": "text/x-python",
   "name": "python",
   "nbconvert_exporter": "python",
   "pygments_lexer": "ipython3",
   "version": "3.7.3"
  }
 },
 "nbformat": 4,
 "nbformat_minor": 4
}
